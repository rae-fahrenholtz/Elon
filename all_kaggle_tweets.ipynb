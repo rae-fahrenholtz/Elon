{
  "nbformat": 4,
  "nbformat_minor": 0,
  "metadata": {
    "colab": {
      "name": "all_kaggle_tweets.ipynb",
      "provenance": [],
      "authorship_tag": "ABX9TyOeXhbMRGDnJNnCTbn+RRT7",
      "include_colab_link": true
    },
    "kernelspec": {
      "name": "python3",
      "display_name": "Python 3"
    },
    "language_info": {
      "name": "python"
    }
  },
  "cells": [
    {
      "cell_type": "markdown",
      "metadata": {
        "id": "view-in-github",
        "colab_type": "text"
      },
      "source": [
        "<a href=\"https://colab.research.google.com/github/rae-fahrenholtz/Elon/blob/main/all_kaggle_tweets.ipynb\" target=\"_parent\"><img src=\"https://colab.research.google.com/assets/colab-badge.svg\" alt=\"Open In Colab\"/></a>"
      ]
    },
    {
      "cell_type": "markdown",
      "source": [
        "https://www.kaggle.com/ayhmrba/elon-musk-tweets-2010-2021/version/2"
      ],
      "metadata": {
        "id": "wEpr2FE4SO7a"
      }
    },
    {
      "cell_type": "code",
      "source": [
        "import pandas as pd\n",
        "import seaborn as sns\n",
        "import matplotlib.pyplot as plt\n",
        "import datetime"
      ],
      "metadata": {
        "id": "kWyir9HLGr_Z"
      },
      "execution_count": null,
      "outputs": []
    },
    {
      "cell_type": "markdown",
      "source": [
        "# Tweets from Kaggle"
      ],
      "metadata": {
        "id": "sdMIKc4RTlL0"
      }
    },
    {
      "cell_type": "markdown",
      "source": [
        "## Load Data"
      ],
      "metadata": {
        "id": "gi641_Bi6Y4Q"
      }
    },
    {
      "cell_type": "code",
      "metadata": {
        "id": "bSfdXf4yvOSd"
      },
      "source": [
        "  # Code to read csv file into Colaboratory:\n",
        "#!pip install -U -q PyDrive\n",
        "from pydrive.auth import GoogleAuth\n",
        "from pydrive.drive import GoogleDrive\n",
        "from google.colab import auth\n",
        "from oauth2client.client import GoogleCredentials\\\n",
        "# Authenticate and create the PyDrive client.\n",
        "auth.authenticate_user()\n",
        "gauth = GoogleAuth()\n",
        "gauth.credentials = GoogleCredentials.get_application_default()\n",
        "drive = GoogleDrive(gauth)"
      ],
      "execution_count": null,
      "outputs": []
    },
    {
      "cell_type": "code",
      "source": [
        "link = 'https://drive.google.com/file/d/1yZz8QAIhXyeLtWxvjjvcFvhUGdtjtOMs/view?usp=sharing'"
      ],
      "metadata": {
        "id": "_24t_JfWyGeN"
      },
      "execution_count": null,
      "outputs": []
    },
    {
      "cell_type": "code",
      "metadata": {
        "id": "f_xz42F-uqFy"
      },
      "source": [
        "id = link.split(\"/\")[-2]"
      ],
      "execution_count": null,
      "outputs": []
    },
    {
      "cell_type": "code",
      "metadata": {
        "id": "xyW0MfPDutfY"
      },
      "source": [
        "downloaded = drive.CreateFile({'id':id}) \n",
        "downloaded.GetContentFile('kaggle-2010-2021.zip')"
      ],
      "execution_count": null,
      "outputs": []
    },
    {
      "cell_type": "code",
      "source": [
        "!unzip 'kaggle-2010-2021.zip'"
      ],
      "metadata": {
        "id": "Gb5cT7TayA2s",
        "colab": {
          "base_uri": "https://localhost:8080/"
        },
        "outputId": "8231a393-abbb-46fb-e8a9-35b984fe26b3"
      },
      "execution_count": null,
      "outputs": [
        {
          "output_type": "stream",
          "name": "stdout",
          "text": [
            "Archive:  kaggle-2010-2021.zip\n",
            "   creating: kaggle-2010-2021/\n",
            "  inflating: __MACOSX/._kaggle-2010-2021  \n",
            "  inflating: kaggle-2010-2021/2020.csv  \n",
            "  inflating: __MACOSX/kaggle-2010-2021/._2020.csv  \n",
            "  inflating: kaggle-2010-2021/2021.csv  \n",
            "  inflating: __MACOSX/kaggle-2010-2021/._2021.csv  \n",
            "  inflating: kaggle-2010-2021/2019.csv  \n",
            "  inflating: __MACOSX/kaggle-2010-2021/._2019.csv  \n",
            "  inflating: kaggle-2010-2021/2018.csv  \n",
            "  inflating: __MACOSX/kaggle-2010-2021/._2018.csv  \n",
            "  inflating: kaggle-2010-2021/2015.csv  \n",
            "  inflating: __MACOSX/kaggle-2010-2021/._2015.csv  \n",
            "  inflating: kaggle-2010-2021/2014.csv  \n",
            "  inflating: __MACOSX/kaggle-2010-2021/._2014.csv  \n",
            "  inflating: kaggle-2010-2021/2016.csv  \n",
            "  inflating: __MACOSX/kaggle-2010-2021/._2016.csv  \n",
            "  inflating: kaggle-2010-2021/2017.csv  \n",
            "  inflating: __MACOSX/kaggle-2010-2021/._2017.csv  \n",
            "  inflating: kaggle-2010-2021/2013.csv  \n",
            "  inflating: __MACOSX/kaggle-2010-2021/._2013.csv  \n",
            "  inflating: kaggle-2010-2021/2012.csv  \n",
            "  inflating: __MACOSX/kaggle-2010-2021/._2012.csv  \n",
            "  inflating: kaggle-2010-2021/2010.csv  \n",
            "  inflating: __MACOSX/kaggle-2010-2021/._2010.csv  \n",
            "  inflating: kaggle-2010-2021/2011.csv  \n",
            "  inflating: __MACOSX/kaggle-2010-2021/._2011.csv  \n"
          ]
        }
      ]
    },
    {
      "cell_type": "code",
      "source": [
        "#function to index and clean Elon musk tweet data in \n",
        "#folder kaggle-2010-2021\n",
        "\n",
        "#year: str, no spaces\n",
        "#possible years: [2010 - 2021]\n",
        "\n",
        "def get_yearly_elon_tweets(year):\n",
        "  \n",
        "  #define file path\n",
        "  path_a = '/content/kaggle-2010-2021/'\n",
        "  path_b = year\n",
        "  path_c = '.csv'\n",
        "  path = path_a + path_b + path_c\n",
        "\n",
        "  #read data\n",
        "  df = pd.read_csv(path, parse_dates=['date'])\n",
        "  \n",
        "  #index with date (no hourly)\n",
        "  df.index = pd.DatetimeIndex(df['date']).floor('D')\n",
        "  \n",
        "  #data cleaning, only tweets in coresponding year\n",
        "  start_date = year + '0101' \n",
        "  end_date = year + '1231' \n",
        "  query_str = start_date + ' <= date <= ' + end_date\n",
        "  df = df.query(query_str)\n",
        "  return(df)\n"
      ],
      "metadata": {
        "id": "Jhgr3AGGGKqx"
      },
      "execution_count": null,
      "outputs": []
    },
    {
      "cell_type": "code",
      "source": [
        "df_2017 = get_yearly_elon_tweets('2017')\n",
        "df_2018 = get_yearly_elon_tweets('2018')\n",
        "df_2019 = get_yearly_elon_tweets('2019')\n",
        "df_2020 = get_yearly_elon_tweets('2020')\n",
        "df_2021 = get_yearly_elon_tweets('2021')"
      ],
      "metadata": {
        "id": "9394JPqvGGKe"
      },
      "execution_count": null,
      "outputs": []
    },
    {
      "cell_type": "code",
      "source": [
        "elon_df = pd.concat([df_2017, df_2018, df_2019, df_2020, df_2021], axis=0)"
      ],
      "metadata": {
        "id": "JP2LUq9hGonh"
      },
      "execution_count": null,
      "outputs": []
    },
    {
      "cell_type": "code",
      "source": [
        "#extract column of interest, nlikes\n",
        "my_elon_df = pd.concat([elon_df['nlikes']], names=['nlikes'], axis=1)"
      ],
      "metadata": {
        "id": "YOFA6R-2HPQA"
      },
      "execution_count": null,
      "outputs": []
    },
    {
      "cell_type": "code",
      "source": [
        "#average daily number of likes \n",
        "avg_daily_nan_df = my_elon_df.resample('D').mean()"
      ],
      "metadata": {
        "id": "ehQ-3FsEHgIt"
      },
      "execution_count": null,
      "outputs": []
    },
    {
      "cell_type": "code",
      "source": [
        "#reindex for all dates in the year \n",
        "all_dates = pd.date_range(start='1/1/2017', end='12/31/2021')"
      ],
      "metadata": {
        "id": "v82NGTI0Htty"
      },
      "execution_count": null,
      "outputs": []
    },
    {
      "cell_type": "code",
      "source": [
        "#for days with no tweets, fill with missing value, (np.NaN is default)\n",
        "avg_daily_nan_df = avg_daily_nan_df.reindex(all_dates)"
      ],
      "metadata": {
        "id": "VhvACa1JHwHg"
      },
      "execution_count": null,
      "outputs": []
    },
    {
      "cell_type": "code",
      "source": [
        "#what percentage are missing values?\n",
        "nan_perc = avg_daily_nan_df.isna().sum() / avg_daily_nan_df.isna().count()\n",
        "print(\"Elon did not tweet on {:.1f}% of days in 2017-2021\".format(\n",
        "    nan_perc.nlikes*100))"
      ],
      "metadata": {
        "colab": {
          "base_uri": "https://localhost:8080/"
        },
        "id": "Ci01l1pwHxsj",
        "outputId": "32556eae-f1a9-400f-a282-ed2c4669cb60"
      },
      "execution_count": null,
      "outputs": [
        {
          "output_type": "stream",
          "name": "stdout",
          "text": [
            "Elon did not tweet on 29.9% of days in 2017-2021\n"
          ]
        }
      ]
    },
    {
      "cell_type": "code",
      "source": [
        "avg_daily_zero_df = avg_daily_nan_df.copy()"
      ],
      "metadata": {
        "id": "dbKbiOOzm_9A"
      },
      "execution_count": null,
      "outputs": []
    },
    {
      "cell_type": "code",
      "source": [
        "#fill missing values with zero\n",
        "avg_daily_zero_df.fillna(0)"
      ],
      "metadata": {
        "id": "wDiTh77TnC2D",
        "colab": {
          "base_uri": "https://localhost:8080/",
          "height": 424
        },
        "outputId": "4aba7a79-e707-4106-eb18-cfb710585c1e"
      },
      "execution_count": null,
      "outputs": [
        {
          "output_type": "execute_result",
          "data": {
            "text/html": [
              "\n",
              "  <div id=\"df-4db3a4e0-e54b-444d-91dd-d8cbe52183a5\">\n",
              "    <div class=\"colab-df-container\">\n",
              "      <div>\n",
              "<style scoped>\n",
              "    .dataframe tbody tr th:only-of-type {\n",
              "        vertical-align: middle;\n",
              "    }\n",
              "\n",
              "    .dataframe tbody tr th {\n",
              "        vertical-align: top;\n",
              "    }\n",
              "\n",
              "    .dataframe thead th {\n",
              "        text-align: right;\n",
              "    }\n",
              "</style>\n",
              "<table border=\"1\" class=\"dataframe\">\n",
              "  <thead>\n",
              "    <tr style=\"text-align: right;\">\n",
              "      <th></th>\n",
              "      <th>nlikes</th>\n",
              "    </tr>\n",
              "  </thead>\n",
              "  <tbody>\n",
              "    <tr>\n",
              "      <th>2017-01-01</th>\n",
              "      <td>0.0</td>\n",
              "    </tr>\n",
              "    <tr>\n",
              "      <th>2017-01-02</th>\n",
              "      <td>0.0</td>\n",
              "    </tr>\n",
              "    <tr>\n",
              "      <th>2017-01-03</th>\n",
              "      <td>0.0</td>\n",
              "    </tr>\n",
              "    <tr>\n",
              "      <th>2017-01-04</th>\n",
              "      <td>0.0</td>\n",
              "    </tr>\n",
              "    <tr>\n",
              "      <th>2017-01-05</th>\n",
              "      <td>14041.0</td>\n",
              "    </tr>\n",
              "    <tr>\n",
              "      <th>...</th>\n",
              "      <td>...</td>\n",
              "    </tr>\n",
              "    <tr>\n",
              "      <th>2021-12-27</th>\n",
              "      <td>0.0</td>\n",
              "    </tr>\n",
              "    <tr>\n",
              "      <th>2021-12-28</th>\n",
              "      <td>0.0</td>\n",
              "    </tr>\n",
              "    <tr>\n",
              "      <th>2021-12-29</th>\n",
              "      <td>0.0</td>\n",
              "    </tr>\n",
              "    <tr>\n",
              "      <th>2021-12-30</th>\n",
              "      <td>0.0</td>\n",
              "    </tr>\n",
              "    <tr>\n",
              "      <th>2021-12-31</th>\n",
              "      <td>0.0</td>\n",
              "    </tr>\n",
              "  </tbody>\n",
              "</table>\n",
              "<p>1826 rows × 1 columns</p>\n",
              "</div>\n",
              "      <button class=\"colab-df-convert\" onclick=\"convertToInteractive('df-4db3a4e0-e54b-444d-91dd-d8cbe52183a5')\"\n",
              "              title=\"Convert this dataframe to an interactive table.\"\n",
              "              style=\"display:none;\">\n",
              "        \n",
              "  <svg xmlns=\"http://www.w3.org/2000/svg\" height=\"24px\"viewBox=\"0 0 24 24\"\n",
              "       width=\"24px\">\n",
              "    <path d=\"M0 0h24v24H0V0z\" fill=\"none\"/>\n",
              "    <path d=\"M18.56 5.44l.94 2.06.94-2.06 2.06-.94-2.06-.94-.94-2.06-.94 2.06-2.06.94zm-11 1L8.5 8.5l.94-2.06 2.06-.94-2.06-.94L8.5 2.5l-.94 2.06-2.06.94zm10 10l.94 2.06.94-2.06 2.06-.94-2.06-.94-.94-2.06-.94 2.06-2.06.94z\"/><path d=\"M17.41 7.96l-1.37-1.37c-.4-.4-.92-.59-1.43-.59-.52 0-1.04.2-1.43.59L10.3 9.45l-7.72 7.72c-.78.78-.78 2.05 0 2.83L4 21.41c.39.39.9.59 1.41.59.51 0 1.02-.2 1.41-.59l7.78-7.78 2.81-2.81c.8-.78.8-2.07 0-2.86zM5.41 20L4 18.59l7.72-7.72 1.47 1.35L5.41 20z\"/>\n",
              "  </svg>\n",
              "      </button>\n",
              "      \n",
              "  <style>\n",
              "    .colab-df-container {\n",
              "      display:flex;\n",
              "      flex-wrap:wrap;\n",
              "      gap: 12px;\n",
              "    }\n",
              "\n",
              "    .colab-df-convert {\n",
              "      background-color: #E8F0FE;\n",
              "      border: none;\n",
              "      border-radius: 50%;\n",
              "      cursor: pointer;\n",
              "      display: none;\n",
              "      fill: #1967D2;\n",
              "      height: 32px;\n",
              "      padding: 0 0 0 0;\n",
              "      width: 32px;\n",
              "    }\n",
              "\n",
              "    .colab-df-convert:hover {\n",
              "      background-color: #E2EBFA;\n",
              "      box-shadow: 0px 1px 2px rgba(60, 64, 67, 0.3), 0px 1px 3px 1px rgba(60, 64, 67, 0.15);\n",
              "      fill: #174EA6;\n",
              "    }\n",
              "\n",
              "    [theme=dark] .colab-df-convert {\n",
              "      background-color: #3B4455;\n",
              "      fill: #D2E3FC;\n",
              "    }\n",
              "\n",
              "    [theme=dark] .colab-df-convert:hover {\n",
              "      background-color: #434B5C;\n",
              "      box-shadow: 0px 1px 3px 1px rgba(0, 0, 0, 0.15);\n",
              "      filter: drop-shadow(0px 1px 2px rgba(0, 0, 0, 0.3));\n",
              "      fill: #FFFFFF;\n",
              "    }\n",
              "  </style>\n",
              "\n",
              "      <script>\n",
              "        const buttonEl =\n",
              "          document.querySelector('#df-4db3a4e0-e54b-444d-91dd-d8cbe52183a5 button.colab-df-convert');\n",
              "        buttonEl.style.display =\n",
              "          google.colab.kernel.accessAllowed ? 'block' : 'none';\n",
              "\n",
              "        async function convertToInteractive(key) {\n",
              "          const element = document.querySelector('#df-4db3a4e0-e54b-444d-91dd-d8cbe52183a5');\n",
              "          const dataTable =\n",
              "            await google.colab.kernel.invokeFunction('convertToInteractive',\n",
              "                                                     [key], {});\n",
              "          if (!dataTable) return;\n",
              "\n",
              "          const docLinkHtml = 'Like what you see? Visit the ' +\n",
              "            '<a target=\"_blank\" href=https://colab.research.google.com/notebooks/data_table.ipynb>data table notebook</a>'\n",
              "            + ' to learn more about interactive tables.';\n",
              "          element.innerHTML = '';\n",
              "          dataTable['output_type'] = 'display_data';\n",
              "          await google.colab.output.renderOutput(dataTable, element);\n",
              "          const docLink = document.createElement('div');\n",
              "          docLink.innerHTML = docLinkHtml;\n",
              "          element.appendChild(docLink);\n",
              "        }\n",
              "      </script>\n",
              "    </div>\n",
              "  </div>\n",
              "  "
            ],
            "text/plain": [
              "             nlikes\n",
              "2017-01-01      0.0\n",
              "2017-01-02      0.0\n",
              "2017-01-03      0.0\n",
              "2017-01-04      0.0\n",
              "2017-01-05  14041.0\n",
              "...             ...\n",
              "2021-12-27      0.0\n",
              "2021-12-28      0.0\n",
              "2021-12-29      0.0\n",
              "2021-12-30      0.0\n",
              "2021-12-31      0.0\n",
              "\n",
              "[1826 rows x 1 columns]"
            ]
          },
          "metadata": {},
          "execution_count": 109
        }
      ]
    },
    {
      "cell_type": "code",
      "source": [
        "sns.lineplot(data=avg_daily_zero_df)\n",
        "plt.title('Average Daily Tweets')\n",
        "plt.show()"
      ],
      "metadata": {
        "colab": {
          "base_uri": "https://localhost:8080/",
          "height": 281
        },
        "id": "t07WS98NS868",
        "outputId": "1a3b8ffb-50ea-4a4e-c56e-893bf20702de"
      },
      "execution_count": null,
      "outputs": [
        {
          "output_type": "display_data",
          "data": {
            "image/png": "[encoded data removed]",
            "text/plain": [
              "<Figure size 432x288 with 1 Axes>"
            ]
          },
          "metadata": {
            "needs_background": "light"
          }
        }
      ]
    },
    {
      "cell_type": "code",
      "source": [
        "sns.lineplot(data=avg_daily_zero_df, x=avg_daily_zero_df.index, y='nlikes')\n",
        "plt.title('Average Daily Tweets')\n",
        "plt.show()"
      ],
      "metadata": {
        "colab": {
          "base_uri": "https://localhost:8080/",
          "height": 281
        },
        "id": "OCKRgNqanVuA",
        "outputId": "e30963f4-ad73-4b15-ff50-5489e1c14199"
      },
      "execution_count": null,
      "outputs": [
        {
          "output_type": "display_data",
          "data": {
            "image/png": "[encoded data removed]",
            "text/plain": [
              "<Figure size 432x288 with 1 Axes>"
            ]
          },
          "metadata": {
            "needs_background": "light"
          }
        }
      ]
    },
    {
      "cell_type": "code",
      "source": [
        "avg_daily_zero_df.plot()\n",
        "plt.title('Average Daily Tweets')\n",
        "plt.show()"
      ],
      "metadata": {
        "colab": {
          "base_uri": "https://localhost:8080/",
          "height": 281
        },
        "id": "Lz7Ae7ZASyv-",
        "outputId": "a76f9d16-f633-4c29-ca57-510931bf07f4"
      },
      "execution_count": null,
      "outputs": [
        {
          "output_type": "display_data",
          "data": {
            "image/png": "[encoded data removed]",
            "text/plain": [
              "<Figure size 432x288 with 1 Axes>"
            ]
          },
          "metadata": {
            "needs_background": "light"
          }
        }
      ]
    },
    {
      "cell_type": "markdown",
      "source": [
        "## Tweet fun"
      ],
      "metadata": {
        "id": "Sja578dGTuQC"
      }
    },
    {
      "cell_type": "markdown",
      "source": [
        "Most popular tweet:"
      ],
      "metadata": {
        "id": "RDk52bT_Rv0w"
      }
    },
    {
      "cell_type": "code",
      "source": [
        "max_likes = elon_df['nlikes'].max()\n",
        "max_likes_date = elon_df['nlikes'].idxmax()\n",
        "max_likes_tweet = elon_df.loc['2020-03-06']['tweet'][0]"
      ],
      "metadata": {
        "id": "gEdEjGqPNUV-"
      },
      "execution_count": null,
      "outputs": []
    },
    {
      "cell_type": "code",
      "source": [
        "print(\"Elon's most liked tweet was on {} with {} likes. \\nIt reads: '{}'.\".format(max_likes_date, max_likes, max_likes_tweet))"
      ],
      "metadata": {
        "colab": {
          "base_uri": "https://localhost:8080/"
        },
        "id": "mRxH8KQ4PRp6",
        "outputId": "b1f4720e-3103-40ea-9cb7-42da979ab7fe"
      },
      "execution_count": null,
      "outputs": [
        {
          "output_type": "stream",
          "name": "stdout",
          "text": [
            "Elon's most liked tweet was on 2020-03-06 00:00:00 with 1596525 likes. \n",
            "It reads: 'The coronavirus panic is dumb'.\n"
          ]
        }
      ]
    }
  ]
}